{
 "cells": [
  {
   "cell_type": "markdown",
   "metadata": {},
   "source": [
    "# Laboration 1: första raderna Python"
   ]
  },
  {
   "cell_type": "markdown",
   "metadata": {},
   "source": [
    "Välkomna till laboration 1 i kursen. Kopiera filen och döp om den till laboration1_<Förnamn><Efternamn>.ipynb. Och fyll i de uppgifter som finns i filen.\n",
    "\n",
    "Lycka till!\n"
   ]
  },
  {
   "cell_type": "markdown",
   "metadata": {},
   "source": [
    "## Uppgift 0\n",
    "\n",
    "Skriv in ett exempel på lämpligt värde (det enda som spelar roll är att värdet har rätt datatyp) till följande variabler:"
   ]
  },
  {
   "cell_type": "code",
   "execution_count": null,
   "metadata": {},
   "outputs": [],
   "source": [
    "# Flyttal\n",
    "flyttal = \n",
    "# Heltal\n",
    "heltal = \n",
    "# Sträng\n",
    "strang = \n",
    "# Lista\n",
    "lista = "
   ]
  },
  {
   "cell_type": "markdown",
   "metadata": {},
   "source": [
    "Kör koden genom att trycka `Shift + Enter` (dvs håll in shifttangenten och tryck sedan enter)"
   ]
  },
  {
   "cell_type": "markdown",
   "metadata": {},
   "source": [
    "Kör nedanstående cell för att testa att du gjort rätt!"
   ]
  },
  {
   "cell_type": "code",
   "execution_count": null,
   "metadata": {},
   "outputs": [],
   "source": [
    "def test_type(varname, typ):\n",
    "    if type(globals()[varname]) != typ:\n",
    "        print(\"Variabeln {} har inte typen {}! Den har typen {}. Testa igen!\".format(\n",
    "            varname, str(typ), type(globals()[varname])))\n",
    "        return False\n",
    "    return True\n",
    "resultat = (test_type(\"flyttal\", float) and\n",
    "            test_type(\"heltal\", int) and\n",
    "            test_type(\"strang\", str) and\n",
    "            test_type(\"lista\", list))\n",
    "if resultat:\n",
    "    print(\"Bra jobbat!\")"
   ]
  },
  {
   "cell_type": "markdown",
   "metadata": {},
   "source": [
    "# Uppgift 1\n",
    "\n",
    "Skriv ut alla talen i listan"
   ]
  },
  {
   "cell_type": "code",
   "execution_count": null,
   "metadata": {},
   "outputs": [],
   "source": [
    "lista = [1, 42, 101, 200]"
   ]
  },
  {
   "cell_type": "code",
   "execution_count": null,
   "metadata": {},
   "outputs": [],
   "source": [
    "# Skriv din lösning under denna kommentar"
   ]
  },
  {
   "cell_type": "markdown",
   "metadata": {},
   "source": [
    "# Uppgift 2"
   ]
  },
  {
   "cell_type": "markdown",
   "metadata": {},
   "source": [
    "Summera alla tal i listan och skriv ut resultatet."
   ]
  },
  {
   "cell_type": "code",
   "execution_count": null,
   "metadata": {},
   "outputs": [],
   "source": [
    "lista = [1, 2, 3, 4, 5, 6, 7, 8]"
   ]
  },
  {
   "cell_type": "code",
   "execution_count": null,
   "metadata": {},
   "outputs": [],
   "source": [
    "# Skriv din lösning under denna kommentar"
   ]
  },
  {
   "cell_type": "markdown",
   "metadata": {},
   "source": [
    "# Uppgift 3"
   ]
  },
  {
   "cell_type": "markdown",
   "metadata": {},
   "source": [
    "Skriv en funktion som summerar alla tal i en lista"
   ]
  },
  {
   "cell_type": "code",
   "execution_count": null,
   "metadata": {},
   "outputs": [],
   "source": [
    "# Fyll i funktionen\n",
    "def summera(lista):\n",
    "    pass"
   ]
  },
  {
   "cell_type": "code",
   "execution_count": null,
   "metadata": {},
   "outputs": [],
   "source": [
    "if summera([1,2,3,4,5]) == 15:\n",
    "    print(\"Bra jobbat!\")\n",
    "else:\n",
    "    print(\"Summan av 1 + 2 + 3 + 4 + 5 borde ha blivit 15 men den är {}\".format(summera([1,2,3,4,5])))"
   ]
  },
  {
   "cell_type": "markdown",
   "metadata": {},
   "source": [
    "# Uppgift 4"
   ]
  },
  {
   "cell_type": "markdown",
   "metadata": {},
   "source": [
    "Skriv en funktion som plockar ut tal ur en lista som är större eller lika med 0. Det vill säga: funktionen skall ge tillbaka en lista som innehåller de positiva talen i listan."
   ]
  },
  {
   "cell_type": "code",
   "execution_count": null,
   "metadata": {},
   "outputs": [],
   "source": [
    "# Fyll i funktionen\n",
    "def storre_an_noll():\n",
    "    pass"
   ]
  },
  {
   "cell_type": "code",
   "execution_count": null,
   "metadata": {},
   "outputs": [],
   "source": [
    "# Testa din funktion här\n",
    "storre_an_noll([-1,0,1])"
   ]
  },
  {
   "cell_type": "code",
   "execution_count": null,
   "metadata": {},
   "outputs": [],
   "source": [
    "# Kör denna cell för att kontrollera din implementation\n",
    "lista = [-1, 1, -10, 5, -3, 0, 15, 30]\n",
    "if len(list(filter(lambda x: x < 0, storre_an_noll(lista)))) > 0:\n",
    "    print(\"Listan innehåller fortfarande negativa tal!\")\n",
    "else:\n",
    "    print(\"Bra jobbat!\")"
   ]
  },
  {
   "cell_type": "markdown",
   "metadata": {},
   "source": [
    "# Uppgift 5\n",
    "Skriv en funktion som räknar ut medelvärdet av talen i en lista. (Försök att göra detta utan att använda de inbyggda funktionerna ```sum``` och ```len```)"
   ]
  },
  {
   "cell_type": "code",
   "execution_count": null,
   "metadata": {},
   "outputs": [],
   "source": [
    "# Fyll i funktionen\n",
    "def medelvarde():\n",
    "    pass"
   ]
  },
  {
   "cell_type": "code",
   "execution_count": null,
   "metadata": {},
   "outputs": [],
   "source": [
    "# Testa din funktion\n",
    "medelvarde([1, 3])"
   ]
  },
  {
   "cell_type": "code",
   "execution_count": null,
   "metadata": {},
   "outputs": [],
   "source": [
    "# Verifiera din implementering genom att köra denna cell\n",
    "lista = [1, 10, 20, 100]\n",
    "if medelvarde(lista) == sum(lista) / len(lista):\n",
    "    print(\"Bra jobbat!\")\n",
    "else:\n",
    "    print(\"Det där verkar inte vara medelvärdet...\")"
   ]
  },
  {
   "cell_type": "markdown",
   "metadata": {},
   "source": [
    "# Uppgift 6\n",
    "\n",
    "Skriv en funktion som räknar antalet ord i en sträng"
   ]
  },
  {
   "cell_type": "code",
   "execution_count": null,
   "metadata": {},
   "outputs": [],
   "source": [
    "# Fyll i funktionen\n",
    "def rakna_ord(text):\n",
    "    pass"
   ]
  },
  {
   "cell_type": "code",
   "execution_count": null,
   "metadata": {},
   "outputs": [],
   "source": [
    "if rakna_ord(\"Ett två tre\") == 3 and rakna_ord(\"Ett två tre fyra\") == 4:\n",
    "    print(\"Bra jobbat!\")\n",
    "else:\n",
    "    print(\"Försök igen...\")"
   ]
  },
  {
   "cell_type": "markdown",
   "metadata": {},
   "source": [
    "# Uppgift 7"
   ]
  },
  {
   "cell_type": "markdown",
   "metadata": {},
   "source": [
    "Skriv en funktion som summerar ihop de olika talen i en textsträng. T.ex om textsträngen är \"1 3 5\" så skall resultatet bli talet 9.\n",
    "\n",
    "Tips: Du kan behöva leta upp hur du konverterar en sträng som innehåller ett tal till ett faktiskt tal."
   ]
  },
  {
   "cell_type": "code",
   "execution_count": null,
   "metadata": {},
   "outputs": [],
   "source": [
    "# Fyll i funktionen\n",
    "def summera_fran_strang(text):\n",
    "    pass"
   ]
  },
  {
   "cell_type": "code",
   "execution_count": null,
   "metadata": {},
   "outputs": [],
   "source": [
    "if summera_fran_strang(\"10 2 -1 5 -3\") == 13 and summera_fran_strang(\"1 2 3 4 5\") == 15:\n",
    "    print(\"Bra jobbat!\")\n",
    "else:\n",
    "    print(\"Försök igen...\")"
   ]
  },
  {
   "cell_type": "markdown",
   "metadata": {},
   "source": [
    "# Uppgift 8"
   ]
  },
  {
   "cell_type": "markdown",
   "metadata": {},
   "source": [
    "Din uppgift är att skapa en funktion som kontrollerar om en given sträng är ett palindrom. Ett palindrom är en sträng som läses likadant framåt och bakåt, bortsett från mellanslag, skiljetecken och versaler/små bokstäver. Funktionen bör returnera **True** om strängen är ett palindrom och **False** annars.\n",
    "\n",
    "https://sv.wikipedia.org/wiki/Palindrom\n",
    "\n",
    "Exempel på palindromer: \"radar\", \"level\", \"madam\"\n",
    "\n",
    "Du kan anta att datan till din funktion är ett ord"
   ]
  },
  {
   "cell_type": "code",
   "execution_count": null,
   "metadata": {},
   "outputs": [],
   "source": [
    "# Fyll i funktionen\n",
    "def palindrom (text):\n",
    "    pass\n"
   ]
  },
  {
   "cell_type": "code",
   "execution_count": null,
   "metadata": {},
   "outputs": [],
   "source": [
    "if palindrom('anna') and palindrom('Radar') and palindrom('naturrutan') and palindrom('ORO'):\n",
    "    print(\"Bra jobbat!\")\n",
    "else:\n",
    "    print(\"Försök igen...\")"
   ]
  },
  {
   "cell_type": "markdown",
   "metadata": {},
   "source": [
    "# Uppgift 9"
   ]
  },
  {
   "cell_type": "markdown",
   "metadata": {},
   "source": [
    "Skriv en funktion som skapar en slumpmässig berättelse från tre nedanstående strängar. Berättelsen bör bli olika varje gång du kör den, dvs. ingen hårdkodning av index i listan. \n",
    "\n",
    "Ett tips är att använda ```random.choice```. Detta gör ni enklast genom att importera modulen random via ```import random```och sen kallar på metoden.\n",
    "\n",
    "https://docs.python.org/3/library/random.html och sök på 'choice' för mer information"
   ]
  },
  {
   "cell_type": "code",
   "execution_count": null,
   "metadata": {},
   "outputs": [],
   "source": [
    "platser = [\"i skogen\", \"i rymden\", \n",
    "           \"på ett slott\", \"i en underjordisk källare\", \n",
    "           \"på en öde ö\", \"på en främmande planet\"\n",
    "           ]\n",
    "\n",
    "huvudpersoner = [\"En modig riddare\", \"En nyfiken forskare\", \n",
    "                 \"En utomjording\", \"En trollkarl\", \n",
    "                 \"En prinsessa\", \"En programmerare\"\n",
    "                 ]\n",
    "\n",
    "problem = [\"hitta en försvunnen skatt\", \" stoppa en utomjordisk invasion\", \n",
    "           \"hitta en förlorad nyckel till slottet\", \"skapa fred i riket\", \n",
    "           \"hitta en magisk artefakt\", \"rädda en prinsessa\"\n",
    "           ]"
   ]
  },
  {
   "cell_type": "code",
   "execution_count": null,
   "metadata": {},
   "outputs": [],
   "source": [
    "import random\n",
    "\n",
    "def slumpmassig_berattelse(platser, huvudpersoner, problem):\n",
    "    #Fyll i funktionen nedan\n",
    "\n",
    "    return f\"{slump_huvudperson} befinner sig {slump_plats}. Målet är att {slump_problem}.\"\n"
   ]
  },
  {
   "cell_type": "code",
   "execution_count": null,
   "metadata": {},
   "outputs": [],
   "source": [
    "# Användning:\n",
    "try:\n",
    "    print(slumpmassig_berattelse(platser, huvudpersoner, problem))\n",
    "except:\n",
    "    print(\"Något är fel med funktionen. Kanske är den inte klar?\")"
   ]
  },
  {
   "cell_type": "markdown",
   "metadata": {},
   "source": [
    "# Uppgift 10"
   ]
  },
  {
   "cell_type": "markdown",
   "metadata": {},
   "source": [
    "I variabeln ```data``` finns information om hur gamla personer i sagan om ringen är."
   ]
  },
  {
   "cell_type": "code",
   "execution_count": null,
   "metadata": {},
   "outputs": [],
   "source": [
    "data = (\n",
    "\"\"\"\n",
    "Arwen 2778\n",
    "Legolas 800\n",
    "Gimli 140\n",
    "Éowyn 24\n",
    "Bilbo 129\n",
    "Aragorn 88\n",
    "Frodo 51\n",
    "Merry 37\n",
    "Pippin 29\n",
    "Gandalf Jättegammal!\n",
    "\"\"\")"
   ]
  },
  {
   "cell_type": "markdown",
   "metadata": {},
   "source": [
    "Hitta den äldsta och den yngsta personen och skriv ut deras namn och ålder."
   ]
  },
  {
   "cell_type": "markdown",
   "metadata": {},
   "source": [
    "Tips: \n",
    "\n",
    "* Funktionen [split](https://docs.python.org/3/library/stdtypes.html#str.split) för strängar kan ta ett argument som specifierar vilket tecken som brytningen skall ske på.\n",
    "* Ingen riktigt vet hur gammal Gandalf är, du kanske måste hantera det på nått sätt... Det finnns inga rätt eller fel här, lös det på det sätt som känns bäst för dig.\n",
    "* Andra användbara funktioner som kan vara bra är [strip](https://docs.python.org/3/library/stdtypes.html#str.strip)"
   ]
  },
  {
   "cell_type": "code",
   "execution_count": null,
   "metadata": {},
   "outputs": [],
   "source": []
  }
 ],
 "metadata": {
  "kernelspec": {
   "display_name": "Python 3",
   "language": "python",
   "name": "python3"
  },
  "language_info": {
   "codemirror_mode": {
    "name": "ipython",
    "version": 3
   },
   "file_extension": ".py",
   "mimetype": "text/x-python",
   "name": "python",
   "nbconvert_exporter": "python",
   "pygments_lexer": "ipython3",
   "version": "3.6.13"
  }
 },
 "nbformat": 4,
 "nbformat_minor": 4
}
