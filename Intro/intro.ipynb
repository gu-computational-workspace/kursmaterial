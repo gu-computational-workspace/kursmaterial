{
 "cells": [
  {
   "cell_type": "markdown",
   "metadata": {},
   "source": [
    "# Introduktion"
   ]
  },
  {
   "cell_type": "markdown",
   "metadata": {},
   "source": [
    "I kursen använder vi verktyget [JupyterHub](https://jupyter.org/hub) och denna sidan är en variant som heter JupyterLab.\n",
    "\n",
    "Denna filen är en s.k. [Jupyter Notebook](https://jupyter-notebook.readthedocs.io/en/stable/notebook.html) vilket består av ett antal celler som antingen innehåller kod eller text. \n",
    "\n",
    "En cell med Python-kod, som den nedan, kan köras genom att sätta markören i cellen (t.ex trycka nånstans på den med musen) och sedan trycka `shift + enter`, dvs håll in `shift`-tangenten (den som används för stor bokstav) och tryck sedan `enter` (dvs tangenten för ny rad)."
   ]
  },
  {
   "cell_type": "markdown",
   "metadata": {},
   "source": [
    "<img src=\"../images/shiftenter.png\" width=\"30%\">\n",
    "\n"
   ]
  },
  {
   "cell_type": "markdown",
   "metadata": {},
   "source": [
    "Testa att köra cellen nedan!"
   ]
  },
  {
   "cell_type": "code",
   "execution_count": 1,
   "metadata": {},
   "outputs": [
    {
     "name": "stdout",
     "output_type": "stream",
     "text": [
      "Hej!\n"
     ]
    }
   ],
   "source": [
    "print(\"Hej!\")"
   ]
  },
  {
   "cell_type": "markdown",
   "metadata": {},
   "source": [
    "Resultatet visas under cellen, i detta fallet bör du se en rad med \"Hej!\"."
   ]
  },
  {
   "cell_type": "markdown",
   "metadata": {},
   "source": [
    "## Många celler"
   ]
  },
  {
   "cell_type": "markdown",
   "metadata": {},
   "source": [
    "Du kan skriva och köra många celler efter varandra, variabler samt funktioner du definierat kommer finnas kvar som om allt var ett program."
   ]
  },
  {
   "cell_type": "code",
   "execution_count": 2,
   "metadata": {},
   "outputs": [],
   "source": [
    "stad = \"Göteborg\""
   ]
  },
  {
   "cell_type": "code",
   "execution_count": 3,
   "metadata": {},
   "outputs": [
    {
     "name": "stdout",
     "output_type": "stream",
     "text": [
      "Göteborg\n"
     ]
    }
   ],
   "source": [
    "print(stad)"
   ]
  },
  {
   "cell_type": "code",
   "execution_count": 1,
   "metadata": {},
   "outputs": [],
   "source": [
    "stad = \"Halmstad\""
   ]
  },
  {
   "cell_type": "code",
   "execution_count": 2,
   "metadata": {},
   "outputs": [
    {
     "name": "stdout",
     "output_type": "stream",
     "text": [
      "Halmstad\n"
     ]
    }
   ],
   "source": [
    "print(stad)"
   ]
  },
  {
   "cell_type": "markdown",
   "metadata": {},
   "source": [
    "## Lägga till celler"
   ]
  },
  {
   "cell_type": "markdown",
   "metadata": {},
   "source": [
    "För att lägga till en cell kan du t.ex klicka på `+` i menyn ovanför din notebook."
   ]
  },
  {
   "cell_type": "markdown",
   "metadata": {},
   "source": [
    "<img src=\"../images/addcells.png\" width=\"50%\"/>"
   ]
  },
  {
   "cell_type": "markdown",
   "metadata": {},
   "source": [
    "## Ta bort celler"
   ]
  },
  {
   "cell_type": "markdown",
   "metadata": {},
   "source": [
    "För att ta bort en cell kan du t.ex klicka på \"saxikonen\" i menyn ovanför din notebook."
   ]
  },
  {
   "cell_type": "markdown",
   "metadata": {},
   "source": [
    "## Starta om miljön"
   ]
  },
  {
   "cell_type": "markdown",
   "metadata": {},
   "source": [
    "Om en cell hänger sig (om du t.ex gjort en oändlig loop eller hanterar för mycket data) så kan du trycka på menyn \"Kernel\" och sedan välja \"Interrupt\"."
   ]
  },
  {
   "cell_type": "markdown",
   "metadata": {},
   "source": [
    "Om du vill starta om hela miljön kan du trycka på menyn \"Kernel\" och sedan välja \"Restart kernel\"."
   ]
  },
  {
   "cell_type": "markdown",
   "metadata": {},
   "source": [
    "# Uppgift"
   ]
  },
  {
   "cell_type": "markdown",
   "metadata": {},
   "source": [
    "* Skriv en funktion `addera` i en cell nedan som tar två tal som argument och returnerar deras summa. När du kör t.ex `addera(1, 3)` så ska resultatet bli `4`. Nedan är denna funktionen given. Implementera därefyer `multiplicera` och `subtrahera` enligt instruktionerna.\n",
    "\n",
    "* Skriv en funktion `multiplicera` i en cell nedan som tar två tal som argument och returnerar deras produkt. När du kör t.ex `multiplicera(2, 3)` så ska resultatet bli `6`.\n",
    "\n",
    "* Skriv en funktion `subtrahera` i en cell nedan som tar två tal som argument och returnerar deras differens. När du kör t.ex `subtrahera(5, 3)` så ska resultatet bli `2`."
   ]
  },
  {
   "cell_type": "code",
   "execution_count": null,
   "metadata": {},
   "outputs": [],
   "source": [
    "# Addera två tal\n",
    "def addera(tal1, tal2):\n",
    "    return tal1 + tal2"
   ]
  },
  {
   "cell_type": "code",
   "execution_count": null,
   "metadata": {},
   "outputs": [],
   "source": []
  },
  {
   "cell_type": "code",
   "execution_count": null,
   "metadata": {},
   "outputs": [],
   "source": []
  },
  {
   "cell_type": "markdown",
   "metadata": {},
   "source": [
    "## Testa din funktion"
   ]
  },
  {
   "cell_type": "markdown",
   "metadata": {},
   "source": [
    "Ofta i kursen så kommer det finnas element av automatiska tester för uppgifterna. För att köra testet startar du först en terminal med menyn `File -> New -> Terminal`."
   ]
  },
  {
   "cell_type": "markdown",
   "metadata": {},
   "source": [
    "<img src=\"../images/testfunction.png\" width=\"50%\"/>"
   ]
  },
  {
   "cell_type": "markdown",
   "metadata": {},
   "source": [
    "Du kommer nu få en ny flik i JupyterLab men en terminal där du kan skriva kommandon."
   ]
  },
  {
   "cell_type": "markdown",
   "metadata": {},
   "source": [
    "<img src=\"attachment:e904e67d-cca6-4342-a29c-5f587bb196e5.png\" width=\"50%\"/>"
   ]
  },
  {
   "cell_type": "markdown",
   "metadata": {},
   "source": [
    "Testa att du implementerat funktionen korrekt genom att köra\n",
    "```\n",
    "python test_intro.py\n",
    "```\n",
    "i en terminal."
   ]
  },
  {
   "cell_type": "markdown",
   "metadata": {},
   "source": [
    "Om du implementerat funktionen korrekt kommer du få ett meddelande:"
   ]
  },
  {
   "cell_type": "markdown",
   "metadata": {},
   "source": [
    "```bash\n",
    "[1001180000@jupyterhub-nb-xliham ~]$ python shared/test_intro.py \n",
    "Allt ok. Bra jobbat!\n",
    "```"
   ]
  },
  {
   "cell_type": "markdown",
   "metadata": {},
   "source": [
    "Om t.ex funktionen har rätt namn men inte lämnar tillbaka rätt resultat så ser det ut som"
   ]
  },
  {
   "cell_type": "markdown",
   "metadata": {},
   "source": [
    "```bash\n",
    "[1001180000@jupyterhub-nb-xliham ~]$ python shared/test_intro.py \n",
    "Traceback (most recent call last):\n",
    "  File \"test_intro.py\", line 10, in <module>\n",
    "    test_nb()\n",
    "  File \"test_intro.py\", line 7, in test_nb\n",
    "    assert f(a, b) == a + b\n",
    "AssertionError\n",
    "```"
   ]
  },
  {
   "cell_type": "markdown",
   "metadata": {},
   "source": [
    "Om du implementerat funktionen men inte gett den rätt namn (dvs `addera` i detta fallet) så ser det ut som"
   ]
  },
  {
   "cell_type": "markdown",
   "metadata": {},
   "source": [
    "```bash\n",
    "[1001180000@jupyterhub-nb-xliham ~]$ python shared/test_intro.py \n",
    "Traceback (most recent call last):\n",
    "  File \"/opt/app-root/src/.local/lib/python3.6/site-packages/testbook/client.py\", line 133, in execute_cell\n",
    "    cell = super().execute_cell(self.nb['cells'][idx], idx, **kwargs)\n",
    "  File \"/opt/app-root/src/.local/lib/python3.6/site-packages/nbclient/util.py\", line 78, in wrapped\n",
    "    return just_run(coro(*args, **kwargs))\n",
    "  File \"/opt/app-root/src/.local/lib/python3.6/site-packages/nbclient/util.py\", line 57, in just_run\n",
    "    return loop.run_until_complete(coro)\n",
    "  File \"/usr/lib64/python3.6/asyncio/base_events.py\", line 484, in run_until_complete\n",
    "    return future.result()\n",
    "  File \"/opt/app-root/src/.local/lib/python3.6/site-packages/nbclient/client.py\", line 862, in async_execute_cell\n",
    "    self._check_raise_for_error(cell, exec_reply)\n",
    "  File \"/opt/app-root/src/.local/lib/python3.6/site-packages/nbclient/client.py\", line 765, in _check_raise_for_error\n",
    "    raise CellExecutionError.from_cell_and_msg(cell, exec_reply_content)\n",
    "nbclient.exceptions.CellExecutionError: An error occurred while executing the following cell:\n",
    "------------------\n",
    "addera\n",
    "------------------\n",
    "\n",
    "---------------------------------------------------------------------------\n",
    "NameError                                 Traceback (most recent call last)\n",
    "<ipython-input-5-7c290d54f993> in <module>\n",
    "----> 1 addera\n",
    "\n",
    "NameError: name 'addera' is not defined\n",
    "```"
   ]
  },
  {
   "cell_type": "code",
   "execution_count": null,
   "metadata": {},
   "outputs": [],
   "source": []
  }
 ],
 "metadata": {
  "kernelspec": {
   "display_name": "Python 3",
   "language": "python",
   "name": "python3"
  },
  "language_info": {
   "codemirror_mode": {
    "name": "ipython",
    "version": 3
   },
   "file_extension": ".py",
   "mimetype": "text/x-python",
   "name": "python",
   "nbconvert_exporter": "python",
   "pygments_lexer": "ipython3",
   "version": "3.6.8"
  }
 },
 "nbformat": 4,
 "nbformat_minor": 4
}
