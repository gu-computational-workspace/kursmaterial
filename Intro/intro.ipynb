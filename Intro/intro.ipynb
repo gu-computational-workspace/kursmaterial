{
 "cells": [
  {
   "cell_type": "markdown",
   "metadata": {},
   "source": [
    "# Introduktion"
   ]
  },
  {
   "cell_type": "markdown",
   "metadata": {},
   "source": [
    "I kursen använder vi verktyget [JupyterHub](https://jupyter.org/hub) och denna sidan är en variant som heter JupyterLab.\n",
    "\n",
    "Denna filen är en s.k. [Jupyter Notebook](https://jupyter-notebook.readthedocs.io/en/stable/notebook.html) vilket består av ett antal celler som antingen innehåller kod eller text. \n",
    "\n",
    "En cell med Python-kod, som den nedan, kan köras genom att sätta markören i cellen (t.ex trycka nånstans på den med musen) och sedan trycka `shift + enter`, dvs håll in `shift`-tangenten (den som används för stor bokstav) och tryck sedan `enter` (dvs tangenten för ny rad)."
   ]
  },
  {
   "cell_type": "markdown",
   "metadata": {},
   "source": [
    "<img src=\"../images/shiftenter.png\" width=\"30%\">\n",
    "\n"
   ]
  },
  {
   "cell_type": "markdown",
   "metadata": {},
   "source": [
    "Testa att köra cellen nedan!"
   ]
  },
  {
   "cell_type": "code",
   "execution_count": 1,
   "metadata": {},
   "outputs": [
    {
     "name": "stdout",
     "output_type": "stream",
     "text": [
      "Hej!\n"
     ]
    }
   ],
   "source": [
    "print(\"Hej!\")"
   ]
  },
  {
   "cell_type": "markdown",
   "metadata": {},
   "source": [
    "Resultatet visas under cellen, i detta fallet bör du se en rad med \"Hej!\"."
   ]
  },
  {
   "cell_type": "markdown",
   "metadata": {},
   "source": [
    "## Många celler"
   ]
  },
  {
   "cell_type": "markdown",
   "metadata": {},
   "source": [
    "Du kan skriva och köra många celler efter varandra, variabler samt funktioner du definierat kommer finnas kvar som om allt var ett program."
   ]
  },
  {
   "cell_type": "code",
   "execution_count": 2,
   "metadata": {},
   "outputs": [],
   "source": [
    "stad = \"Göteborg\""
   ]
  },
  {
   "cell_type": "code",
   "execution_count": 3,
   "metadata": {},
   "outputs": [
    {
     "name": "stdout",
     "output_type": "stream",
     "text": [
      "Göteborg\n"
     ]
    }
   ],
   "source": [
    "print(stad)"
   ]
  },
  {
   "cell_type": "code",
   "execution_count": 1,
   "metadata": {},
   "outputs": [],
   "source": [
    "stad = \"Halmstad\""
   ]
  },
  {
   "cell_type": "code",
   "execution_count": 2,
   "metadata": {},
   "outputs": [
    {
     "name": "stdout",
     "output_type": "stream",
     "text": [
      "Halmstad\n"
     ]
    }
   ],
   "source": [
    "print(stad)"
   ]
  },
  {
   "cell_type": "markdown",
   "metadata": {},
   "source": [
    "## Lägga till celler"
   ]
  },
  {
   "cell_type": "markdown",
   "metadata": {},
   "source": [
    "För att lägga till en cell kan du t.ex klicka på `+` i menyn ovanför din notebook."
   ]
  },
  {
   "cell_type": "markdown",
   "metadata": {},
   "source": [
    "<img src=\"../images/addcells.png\" width=\"50%\"/>"
   ]
  },
  {
   "cell_type": "markdown",
   "metadata": {},
   "source": [
    "## Ta bort celler"
   ]
  },
  {
   "cell_type": "markdown",
   "metadata": {},
   "source": [
    "För att ta bort en cell kan du t.ex klicka på \"saxikonen\" i menyn ovanför din notebook."
   ]
  },
  {
   "cell_type": "markdown",
   "metadata": {},
   "source": [
    "## Starta om miljön"
   ]
  },
  {
   "cell_type": "markdown",
   "metadata": {},
   "source": [
    "Om en cell hänger sig (om du t.ex gjort en oändlig loop eller hanterar för mycket data) så kan du trycka på menyn \"Kernel\" och sedan välja \"Interrupt\"."
   ]
  },
  {
   "cell_type": "markdown",
   "metadata": {},
   "source": [
    "Om du vill starta om hela miljön kan du trycka på menyn \"Kernel\" och sedan välja \"Restart kernel\"."
   ]
  },
  {
   "cell_type": "markdown",
   "metadata": {},
   "source": [
    "# Uppgift"
   ]
  },
  {
   "cell_type": "markdown",
   "metadata": {},
   "source": [
    "* Skriv en funktion `addera` i en cell nedan som tar två tal som argument och returnerar deras summa. När du kör t.ex `addera(1, 3)` så ska resultatet bli `4`. Nedan är denna funktionen given. Implementera därefyer `multiplicera` och `subtrahera` enligt instruktionerna.\n",
    "\n",
    "* Skriv en funktion `multiplicera` i en cell nedan som tar två tal som argument och returnerar deras produkt. När du kör t.ex `multiplicera(2, 3)` så ska resultatet bli `6`.\n",
    "\n",
    "* Skriv en funktion `subtrahera` i en cell nedan som tar två tal som argument och returnerar deras differens. När du kör t.ex `subtrahera(5, 3)` så ska resultatet bli `2`."
   ]
  },
  {
   "cell_type": "code",
   "execution_count": null,
   "metadata": {},
   "outputs": [],
   "source": [
    "# Addera två tal\n",
    "def addera(tal1, tal2):\n",
    "    return tal1 + tal2"
   ]
  },
  {
   "cell_type": "code",
   "execution_count": null,
   "metadata": {},
   "outputs": [],
   "source": []
  },
  {
   "cell_type": "code",
   "execution_count": null,
   "metadata": {},
   "outputs": [],
   "source": []
  },
  {
   "cell_type": "markdown",
   "metadata": {},
   "source": [
    "## Testa din funktion"
   ]
  },
  {
   "cell_type": "markdown",
   "metadata": {},
   "source": [
    "Ofta i kursen så kommer det finnas element av automatiska tester för uppgifterna. För att köra testet startar du först en terminal med menyn `File -> New -> Terminal`."
   ]
  },
  {
   "cell_type": "markdown",
   "metadata": {},
   "source": [
    "<img src=\"../images/testfunction.png\" width=\"50%\"/>"
   ]
  },
  {
   "cell_type": "markdown",
   "metadata": {},
   "source": [
    "Du kommer nu få en ny flik i JupyterLab men en terminal där du kan skriva kommandon."
   ]
  },
  {
   "cell_type": "markdown",
   "metadata": {},
   "source": [
    "<img src=\"../images/testfunction2.png\" width=\"50%\"/>"
   ]
  },
  {
   "cell_type": "markdown",
   "metadata": {},
   "source": [
    "För att ställa dig i rätt map kan du förflytta dig med kommandot `cd` (change directory) och sedan mappen du vill gå till.\n",
    "\n",
    "Skriv `cd kursmaterial` sedan `cd LFY031` och sedan `cd Intro` för att komma till mappen med testerna.\n",
    "\n",
    "Sammanfattningsvis skriv `cd kursmaterial/LFY031/Intro`."
   ]
  },
  {
   "cell_type": "markdown",
   "metadata": {},
   "source": [
    "Testa därefter att du implementerat funktionen korrekt genom att köra\n",
    "```\n",
    "python test_intro.py\n",
    "```\n",
    "i en terminal."
   ]
  },
  {
   "cell_type": "markdown",
   "metadata": {},
   "source": [
    "Om du implementerat funktionen korrekt kommer du få ett meddelande:"
   ]
  },
  {
   "cell_type": "markdown",
   "metadata": {},
   "source": [
    "```bash\n",
    "jovyan@jupyter-xskafr:~/kursmaterial/LFY031/Intro$ python test_intro.py\n",
    "\n",
    "Resultat från testerna:\n",
    "'addera' klarade alla tester.\n",
    "'multiplicera' klarade alla tester.\n",
    "'subtrahera' klarade alla tester.\n",
    "\n",
    "```"
   ]
  },
  {
   "cell_type": "markdown",
   "metadata": {},
   "source": [
    "Om t.ex funktionen har rätt namn men inte lämnar tillbaka rätt resultat så ser det ut som (i detta fall för `subtrahera`):\n"
   ]
  },
  {
   "cell_type": "markdown",
   "metadata": {},
   "source": [
    "```bash\n",
    "jovyan@jupyter-xskafr:~/kursmaterial/LFY031/Intro$ python test_intro.py \n",
    "Resultat från testerna:\n",
    "'addera' klarade alla tester.\n",
    "'multiplicera' klarade alla tester.\n",
    "subtrahera(1, 1) misslyckades: -1 != 0\n",
    "```"
   ]
  },
  {
   "cell_type": "markdown",
   "metadata": {},
   "source": [
    "Om du implementerat funktionen men inte gett den rätt namn (dvs `subtrahera` i detta fallet) så ser det ut som"
   ]
  },
  {
   "cell_type": "markdown",
   "metadata": {},
   "source": [
    "```bash\n",
    "jovyan@jupyter-xskafr:~/kursmaterial/LFY031/Intro$ python test_intro.py\n",
    "Resultat från testerna:\n",
    "'addera' klarade alla tester.\n",
    "'multiplicera' klarade alla tester.\n",
    "Fel: 'subtrahera' hittades inte i miljön.\n",
    "```"
   ]
  }
 ],
 "metadata": {
  "kernelspec": {
   "display_name": "Python 3",
   "language": "python",
   "name": "python3"
  },
  "language_info": {
   "codemirror_mode": {
    "name": "ipython",
    "version": 3
   },
   "file_extension": ".py",
   "mimetype": "text/x-python",
   "name": "python",
   "nbconvert_exporter": "python",
   "pygments_lexer": "ipython3",
   "version": "3.6.8"
  }
 },
 "nbformat": 4,
 "nbformat_minor": 4
}
